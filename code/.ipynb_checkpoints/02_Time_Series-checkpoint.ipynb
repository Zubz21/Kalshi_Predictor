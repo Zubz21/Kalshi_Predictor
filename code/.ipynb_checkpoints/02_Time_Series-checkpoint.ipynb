{
 "cells": [
  {
   "cell_type": "code",
   "execution_count": 1,
   "id": "208bd07f-c98e-41f1-9fe6-882cd0f71be5",
   "metadata": {},
   "outputs": [],
   "source": [
    "import pandas as pd\n",
    "import numpy as np\n",
    "import seaborn as sns\n",
    "import matplotlib.pyplot as plt\n",
    "import pandas as pd\n",
    "\n",
    "from sklearn.model_selection import train_test_split\n",
    "from sklearn.linear_model import LogisticRegression\n",
    "from sklearn.metrics import accuracy_score, classification_report, confusion_matrix\n",
    "from sklearn.impute import SimpleImputer\n",
    "from sklearn.ensemble import RandomForestClassifier\n",
    "from sklearn.ensemble import RandomForestRegressor"
   ]
  },
  {
   "cell_type": "code",
   "execution_count": 2,
   "id": "5fddca75-82f4-4e13-a650-e61783848d18",
   "metadata": {},
   "outputs": [
    {
     "data": {
      "text/plain": [
       "(1300, 33)"
      ]
     },
     "execution_count": 2,
     "metadata": {},
     "output_type": "execute_result"
    }
   ],
   "source": [
    "values = pd.read_csv(\"../data/kalshi_features_v1.csv\")\n",
    "values.shape"
   ]
  },
  {
   "cell_type": "code",
   "execution_count": 3,
   "id": "30ff04bf-d47e-421b-a1cc-ee61bb3363dd",
   "metadata": {},
   "outputs": [
    {
     "data": {
      "text/html": [
       "<div>\n",
       "<style scoped>\n",
       "    .dataframe tbody tr th:only-of-type {\n",
       "        vertical-align: middle;\n",
       "    }\n",
       "\n",
       "    .dataframe tbody tr th {\n",
       "        vertical-align: top;\n",
       "    }\n",
       "\n",
       "    .dataframe thead th {\n",
       "        text-align: right;\n",
       "    }\n",
       "</style>\n",
       "<table border=\"1\" class=\"dataframe\">\n",
       "  <thead>\n",
       "    <tr style=\"text-align: right;\">\n",
       "      <th></th>\n",
       "      <th>Date</th>\n",
       "      <th>DayOfWeek</th>\n",
       "      <th>Open</th>\n",
       "      <th>High</th>\n",
       "      <th>Low</th>\n",
       "      <th>Close</th>\n",
       "      <th>Adj Close</th>\n",
       "      <th>Volume</th>\n",
       "      <th>OC Difference</th>\n",
       "      <th>HL Difference</th>\n",
       "      <th>...</th>\n",
       "      <th>Close_Lag_2</th>\n",
       "      <th>Close_Lag_3</th>\n",
       "      <th>Close_Lag_4</th>\n",
       "      <th>Close_Lag_5</th>\n",
       "      <th>ShortEMA</th>\n",
       "      <th>LongEMA</th>\n",
       "      <th>MACD</th>\n",
       "      <th>SignalLine</th>\n",
       "      <th>MACD_Histogram</th>\n",
       "      <th>RSI</th>\n",
       "    </tr>\n",
       "  </thead>\n",
       "  <tbody>\n",
       "    <tr>\n",
       "      <th>0</th>\n",
       "      <td>2023-10-23</td>\n",
       "      <td>1</td>\n",
       "      <td>14514.110352</td>\n",
       "      <td>14746.370117</td>\n",
       "      <td>14419.059570</td>\n",
       "      <td>14604.849609</td>\n",
       "      <td>14604.849609</td>\n",
       "      <td>4669060000</td>\n",
       "      <td>-90.739257</td>\n",
       "      <td>327.310547</td>\n",
       "      <td>...</td>\n",
       "      <td>14381.639648</td>\n",
       "      <td>14109.570313</td>\n",
       "      <td>14180.419922</td>\n",
       "      <td>14335.509766</td>\n",
       "      <td>14637.994410</td>\n",
       "      <td>14839.828129</td>\n",
       "      <td>-201.833719</td>\n",
       "      <td>-165.128518</td>\n",
       "      <td>-36.705201</td>\n",
       "      <td>35.759337</td>\n",
       "    </tr>\n",
       "    <tr>\n",
       "      <th>1</th>\n",
       "      <td>2023-10-20</td>\n",
       "      <td>5</td>\n",
       "      <td>14752.589844</td>\n",
       "      <td>14781.219727</td>\n",
       "      <td>14552.120117</td>\n",
       "      <td>14560.879883</td>\n",
       "      <td>14560.879883</td>\n",
       "      <td>4622840000</td>\n",
       "      <td>191.709961</td>\n",
       "      <td>229.099610</td>\n",
       "      <td>...</td>\n",
       "      <td>14745.860352</td>\n",
       "      <td>14381.639648</td>\n",
       "      <td>14109.570313</td>\n",
       "      <td>14180.419922</td>\n",
       "      <td>14626.130636</td>\n",
       "      <td>14819.165296</td>\n",
       "      <td>-193.034659</td>\n",
       "      <td>-170.709746</td>\n",
       "      <td>-22.324913</td>\n",
       "      <td>35.023629</td>\n",
       "    </tr>\n",
       "    <tr>\n",
       "      <th>2</th>\n",
       "      <td>2023-10-19</td>\n",
       "      <td>4</td>\n",
       "      <td>14981.129883</td>\n",
       "      <td>15023.910156</td>\n",
       "      <td>14749.299805</td>\n",
       "      <td>14783.129883</td>\n",
       "      <td>14783.129883</td>\n",
       "      <td>5014790000</td>\n",
       "      <td>198.000000</td>\n",
       "      <td>274.610351</td>\n",
       "      <td>...</td>\n",
       "      <td>14604.849609</td>\n",
       "      <td>14745.860352</td>\n",
       "      <td>14381.639648</td>\n",
       "      <td>14109.570313</td>\n",
       "      <td>14650.284367</td>\n",
       "      <td>14816.496006</td>\n",
       "      <td>-166.211639</td>\n",
       "      <td>-169.810125</td>\n",
       "      <td>3.598486</td>\n",
       "      <td>38.205042</td>\n",
       "    </tr>\n",
       "    <tr>\n",
       "      <th>3</th>\n",
       "      <td>2023-10-18</td>\n",
       "      <td>3</td>\n",
       "      <td>15022.280273</td>\n",
       "      <td>15103.870117</td>\n",
       "      <td>14865.809570</td>\n",
       "      <td>14909.259766</td>\n",
       "      <td>14909.259766</td>\n",
       "      <td>4617140000</td>\n",
       "      <td>113.020507</td>\n",
       "      <td>238.060547</td>\n",
       "      <td>...</td>\n",
       "      <td>14560.879883</td>\n",
       "      <td>14604.849609</td>\n",
       "      <td>14745.860352</td>\n",
       "      <td>14381.639648</td>\n",
       "      <td>14690.126736</td>\n",
       "      <td>14823.367395</td>\n",
       "      <td>-133.240660</td>\n",
       "      <td>-162.496232</td>\n",
       "      <td>29.255572</td>\n",
       "      <td>41.792372</td>\n",
       "    </tr>\n",
       "    <tr>\n",
       "      <th>4</th>\n",
       "      <td>2023-10-17</td>\n",
       "      <td>2</td>\n",
       "      <td>15009.259766</td>\n",
       "      <td>15187.059570</td>\n",
       "      <td>14932.769531</td>\n",
       "      <td>15122.009766</td>\n",
       "      <td>15122.009766</td>\n",
       "      <td>4417640000</td>\n",
       "      <td>-112.750000</td>\n",
       "      <td>254.290039</td>\n",
       "      <td>...</td>\n",
       "      <td>14783.129883</td>\n",
       "      <td>14560.879883</td>\n",
       "      <td>14604.849609</td>\n",
       "      <td>14745.860352</td>\n",
       "      <td>14756.570279</td>\n",
       "      <td>14845.489052</td>\n",
       "      <td>-88.918774</td>\n",
       "      <td>-147.780740</td>\n",
       "      <td>58.861967</td>\n",
       "      <td>49.322010</td>\n",
       "    </tr>\n",
       "  </tbody>\n",
       "</table>\n",
       "<p>5 rows × 33 columns</p>\n",
       "</div>"
      ],
      "text/plain": [
       "         Date  DayOfWeek          Open          High           Low  \\\n",
       "0  2023-10-23          1  14514.110352  14746.370117  14419.059570   \n",
       "1  2023-10-20          5  14752.589844  14781.219727  14552.120117   \n",
       "2  2023-10-19          4  14981.129883  15023.910156  14749.299805   \n",
       "3  2023-10-18          3  15022.280273  15103.870117  14865.809570   \n",
       "4  2023-10-17          2  15009.259766  15187.059570  14932.769531   \n",
       "\n",
       "          Close     Adj Close      Volume  OC Difference  HL Difference  ...  \\\n",
       "0  14604.849609  14604.849609  4669060000     -90.739257     327.310547  ...   \n",
       "1  14560.879883  14560.879883  4622840000     191.709961     229.099610  ...   \n",
       "2  14783.129883  14783.129883  5014790000     198.000000     274.610351  ...   \n",
       "3  14909.259766  14909.259766  4617140000     113.020507     238.060547  ...   \n",
       "4  15122.009766  15122.009766  4417640000    -112.750000     254.290039  ...   \n",
       "\n",
       "    Close_Lag_2   Close_Lag_3   Close_Lag_4   Close_Lag_5      ShortEMA  \\\n",
       "0  14381.639648  14109.570313  14180.419922  14335.509766  14637.994410   \n",
       "1  14745.860352  14381.639648  14109.570313  14180.419922  14626.130636   \n",
       "2  14604.849609  14745.860352  14381.639648  14109.570313  14650.284367   \n",
       "3  14560.879883  14604.849609  14745.860352  14381.639648  14690.126736   \n",
       "4  14783.129883  14560.879883  14604.849609  14745.860352  14756.570279   \n",
       "\n",
       "        LongEMA        MACD  SignalLine  MACD_Histogram        RSI  \n",
       "0  14839.828129 -201.833719 -165.128518      -36.705201  35.759337  \n",
       "1  14819.165296 -193.034659 -170.709746      -22.324913  35.023629  \n",
       "2  14816.496006 -166.211639 -169.810125        3.598486  38.205042  \n",
       "3  14823.367395 -133.240660 -162.496232       29.255572  41.792372  \n",
       "4  14845.489052  -88.918774 -147.780740       58.861967  49.322010  \n",
       "\n",
       "[5 rows x 33 columns]"
      ]
     },
     "execution_count": 3,
     "metadata": {},
     "output_type": "execute_result"
    }
   ],
   "source": [
    "values.head()"
   ]
  },
  {
   "cell_type": "markdown",
   "id": "503fbe33-dd4e-4f76-a372-8437965eb8db",
   "metadata": {},
   "source": [
    "# Time Series"
   ]
  },
  {
   "cell_type": "markdown",
   "id": "59468b1a-3115-40eb-ac12-df6afca08e9d",
   "metadata": {},
   "source": [
    "#### Problem Statement\n",
    "**We aim to forecast future stock market Open and Close prices based on historical data. The objectives are two-fold:**\n",
    "1) Predict the Open and Close prices for the next few days based on previous price data and other related financial indicators.\n",
    "2) Given only the Open price for a future date, predict the corresponding Close price.\n",
    "\n",
    "#### Steps to Take\n",
    "1. Data Preprocessing\n",
    "2. EDA (If Needed)\n",
    "3. Model Selection\n",
    "4. Feature Selection\n",
    "5. Evaluation"
   ]
  },
  {
   "cell_type": "markdown",
   "id": "78fb2217-af84-4e2b-80ac-a650bd53378f",
   "metadata": {},
   "source": [
    "## Data Preprocessing"
   ]
  },
  {
   "cell_type": "code",
   "execution_count": 5,
   "id": "6370cfd2-4b7a-48a5-9a77-1f4c0bcf2113",
   "metadata": {},
   "outputs": [],
   "source": [
    "values_ts = values"
   ]
  },
  {
   "cell_type": "code",
   "execution_count": 6,
   "id": "9a4fdc55-836a-4639-80be-6dd7e22a1314",
   "metadata": {},
   "outputs": [],
   "source": [
    "values_ts['Date'] = pd.to_datetime(values['Date'])"
   ]
  },
  {
   "cell_type": "code",
   "execution_count": 7,
   "id": "3c2cc660-c1c3-483e-a353-902fe1a37578",
   "metadata": {},
   "outputs": [
    {
     "name": "stdout",
     "output_type": "stream",
     "text": [
      "<class 'pandas.core.frame.DataFrame'>\n",
      "RangeIndex: 1300 entries, 0 to 1299\n",
      "Data columns (total 33 columns):\n",
      " #   Column                  Non-Null Count  Dtype         \n",
      "---  ------                  --------------  -----         \n",
      " 0   Date                    1300 non-null   datetime64[ns]\n",
      " 1   DayOfWeek               1300 non-null   int64         \n",
      " 2   Open                    1300 non-null   float64       \n",
      " 3   High                    1300 non-null   float64       \n",
      " 4   Low                     1300 non-null   float64       \n",
      " 5   Close                   1300 non-null   float64       \n",
      " 6   Adj Close               1300 non-null   float64       \n",
      " 7   Volume                  1300 non-null   int64         \n",
      " 8   OC Difference           1300 non-null   float64       \n",
      " 9   HL Difference           1300 non-null   float64       \n",
      " 10  OC %Change              1300 non-null   float64       \n",
      " 11  HL %Change              1300 non-null   float64       \n",
      " 12  Close_Status            1300 non-null   int64         \n",
      " 13  Close_Difference        1300 non-null   float64       \n",
      " 14  Same Bracket            1300 non-null   int64         \n",
      " 15  Avg_OC_Spread_10_Day    1300 non-null   float64       \n",
      " 16  Avg_Volume_10_Day       1300 non-null   float64       \n",
      " 17  Volatility_10_Day       1300 non-null   float64       \n",
      " 18  Price_Change_Magnitude  1300 non-null   float64       \n",
      " 19  Price_Direction         1300 non-null   int64         \n",
      " 20  MA_Volume_Ratio         1300 non-null   float64       \n",
      " 21  Close_Bracket           1300 non-null   int64         \n",
      " 22  Close_Lag_1             1300 non-null   float64       \n",
      " 23  Close_Lag_2             1300 non-null   float64       \n",
      " 24  Close_Lag_3             1300 non-null   float64       \n",
      " 25  Close_Lag_4             1300 non-null   float64       \n",
      " 26  Close_Lag_5             1300 non-null   float64       \n",
      " 27  ShortEMA                1300 non-null   float64       \n",
      " 28  LongEMA                 1300 non-null   float64       \n",
      " 29  MACD                    1300 non-null   float64       \n",
      " 30  SignalLine              1300 non-null   float64       \n",
      " 31  MACD_Histogram          1300 non-null   float64       \n",
      " 32  RSI                     1300 non-null   float64       \n",
      "dtypes: datetime64[ns](1), float64(26), int64(6)\n",
      "memory usage: 335.3 KB\n"
     ]
    }
   ],
   "source": [
    "values_ts.info()"
   ]
  },
  {
   "cell_type": "code",
   "execution_count": 9,
   "id": "f8ecf83d-4a1c-4eac-8638-85cb0d135884",
   "metadata": {},
   "outputs": [],
   "source": [
    "values_ts.set_index('Date',inplace=True)"
   ]
  },
  {
   "cell_type": "code",
   "execution_count": 10,
   "id": "fb0dd850-4b98-47a7-9aae-10d733ed78ed",
   "metadata": {},
   "outputs": [
    {
     "name": "stdout",
     "output_type": "stream",
     "text": [
      "<class 'pandas.core.frame.DataFrame'>\n",
      "DatetimeIndex: 1300 entries, 2023-10-23 to 2018-08-23\n",
      "Data columns (total 32 columns):\n",
      " #   Column                  Non-Null Count  Dtype  \n",
      "---  ------                  --------------  -----  \n",
      " 0   DayOfWeek               1300 non-null   int64  \n",
      " 1   Open                    1300 non-null   float64\n",
      " 2   High                    1300 non-null   float64\n",
      " 3   Low                     1300 non-null   float64\n",
      " 4   Close                   1300 non-null   float64\n",
      " 5   Adj Close               1300 non-null   float64\n",
      " 6   Volume                  1300 non-null   int64  \n",
      " 7   OC Difference           1300 non-null   float64\n",
      " 8   HL Difference           1300 non-null   float64\n",
      " 9   OC %Change              1300 non-null   float64\n",
      " 10  HL %Change              1300 non-null   float64\n",
      " 11  Close_Status            1300 non-null   int64  \n",
      " 12  Close_Difference        1300 non-null   float64\n",
      " 13  Same Bracket            1300 non-null   int64  \n",
      " 14  Avg_OC_Spread_10_Day    1300 non-null   float64\n",
      " 15  Avg_Volume_10_Day       1300 non-null   float64\n",
      " 16  Volatility_10_Day       1300 non-null   float64\n",
      " 17  Price_Change_Magnitude  1300 non-null   float64\n",
      " 18  Price_Direction         1300 non-null   int64  \n",
      " 19  MA_Volume_Ratio         1300 non-null   float64\n",
      " 20  Close_Bracket           1300 non-null   int64  \n",
      " 21  Close_Lag_1             1300 non-null   float64\n",
      " 22  Close_Lag_2             1300 non-null   float64\n",
      " 23  Close_Lag_3             1300 non-null   float64\n",
      " 24  Close_Lag_4             1300 non-null   float64\n",
      " 25  Close_Lag_5             1300 non-null   float64\n",
      " 26  ShortEMA                1300 non-null   float64\n",
      " 27  LongEMA                 1300 non-null   float64\n",
      " 28  MACD                    1300 non-null   float64\n",
      " 29  SignalLine              1300 non-null   float64\n",
      " 30  MACD_Histogram          1300 non-null   float64\n",
      " 31  RSI                     1300 non-null   float64\n",
      "dtypes: float64(26), int64(6)\n",
      "memory usage: 335.2 KB\n"
     ]
    }
   ],
   "source": [
    "values_ts.info()"
   ]
  },
  {
   "cell_type": "code",
   "execution_count": 11,
   "id": "226bc694-e8cf-4287-b670-6d507dca0f88",
   "metadata": {},
   "outputs": [],
   "source": [
    "values_ts.sort_index(inplace=True)"
   ]
  },
  {
   "cell_type": "markdown",
   "id": "5635f675-0442-4997-b6e1-cae00a8fa1c8",
   "metadata": {},
   "source": [
    "## NEXT: WE NEED TO GET OUR DATA TO BECOME STATIONERY"
   ]
  },
  {
   "cell_type": "markdown",
   "id": "7bf79808-9f97-421e-a3c2-50b6e2f1d5fe",
   "metadata": {},
   "source": [
    "\n",
    "\n",
    "## EDA\n",
    "(Honestly we learned everyhting we needed to know in Notebook 01 so no need to do further analysis as of right now)"
   ]
  },
  {
   "cell_type": "code",
   "execution_count": null,
   "id": "0cd2a5d7-5340-4c39-8889-c643a9ffe617",
   "metadata": {},
   "outputs": [],
   "source": []
  },
  {
   "cell_type": "code",
   "execution_count": null,
   "id": "1669dce9-378c-405a-944f-a39fd84502aa",
   "metadata": {},
   "outputs": [],
   "source": []
  },
  {
   "cell_type": "code",
   "execution_count": null,
   "id": "a8d5fcd0-3d93-43a9-8361-54b13a02805d",
   "metadata": {},
   "outputs": [],
   "source": []
  },
  {
   "cell_type": "code",
   "execution_count": null,
   "id": "e24a045f-492c-4f8b-86b2-f7f4bcf6cdfc",
   "metadata": {},
   "outputs": [],
   "source": []
  },
  {
   "cell_type": "code",
   "execution_count": null,
   "id": "894f12c8-a449-4759-92cd-ab6e9b94a4c7",
   "metadata": {},
   "outputs": [],
   "source": []
  },
  {
   "cell_type": "code",
   "execution_count": null,
   "id": "75d8a9ec-f73b-4b75-9748-14283d3a07a4",
   "metadata": {},
   "outputs": [],
   "source": []
  },
  {
   "cell_type": "code",
   "execution_count": null,
   "id": "1b619a27-e94f-4253-a945-cc73cc937395",
   "metadata": {},
   "outputs": [],
   "source": []
  }
 ],
 "metadata": {
  "kernelspec": {
   "display_name": "Python 3 (ipykernel)",
   "language": "python",
   "name": "python3"
  },
  "language_info": {
   "codemirror_mode": {
    "name": "ipython",
    "version": 3
   },
   "file_extension": ".py",
   "mimetype": "text/x-python",
   "name": "python",
   "nbconvert_exporter": "python",
   "pygments_lexer": "ipython3",
   "version": "3.9.13"
  }
 },
 "nbformat": 4,
 "nbformat_minor": 5
}
