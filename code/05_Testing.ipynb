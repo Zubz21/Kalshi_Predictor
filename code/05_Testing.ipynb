{
 "cells": [
  {
   "cell_type": "code",
   "execution_count": 3,
   "id": "79a93874-401a-49b0-ad75-0d66d5e72d51",
   "metadata": {},
   "outputs": [],
   "source": [
    "import streamlit as st\n",
    "import numpy as np\n",
    "import pickle\n",
    "\n",
    "# Load your trained model\n",
    "with open('xgboost_model.pkl', 'rb') as file:\n",
    "    model = pickle.load(file)\n",
    "\n",
    "# Define the app layout\n",
    "st.title('Stock Close Price Prediction for Next 5 Days')\n",
    "\n",
    "# Create inputs for each feature\n",
    "avg_oc_spread_10_day = st.number_input('Average Open-Close Spread Over 10 Days', format='%.10f')\n",
    "avg_volume_10_day = st.number_input('Average Volume Over 10 Days', format='%.10f')\n",
    "volatility_10_day = st.number_input('Volatility Over 10 Days', format='%.10f')\n",
    "price_change_magnitude = st.number_input('Price Change Magnitude', format='%.10f')\n",
    "price_direction = st.number_input('Price Direction (Enter 1 for Up, 0 for Down)', format='%.10f')\n",
    "ma_volume_ratio = st.number_input('Moving Average Volume Ratio', format='%.10f')\n",
    "close_lag_5 = st.number_input('Close Lag 5', format='%.10f')\n",
    "close_lag_4 = st.number_input('Close Lag 4', format='%.10f')\n",
    "close_lag_3 = st.number_input('Close Lag 3', format='%.10f')\n",
    "close_lag_2 = st.number_input('Close Lag 2', format='%.10f')\n",
    "close_lag_1 = st.number_input('Close Lag 1', format='%.10f')\n",
    "shortema = st.number_input('Short-term EMA', format='%.10f')\n",
    "longema = st.number_input('Long-term EMA', format='%.10f')\n",
    "macd = st.number_input('MACD', format='%.10f')\n",
    "\n",
    "# Predict button\n",
    "if st.button('Predict'):\n",
    "    # Initialize an empty list to store predictions\n",
    "    predictions = []\n",
    "\n",
    "    # Initial features for the first prediction\n",
    "    features = [avg_oc_spread_10_day, avg_volume_10_day, volatility_10_day,\n",
    "                price_change_magnitude, price_direction, ma_volume_ratio,\n",
    "                close_lag_5, close_lag_4, close_lag_3, close_lag_2,\n",
    "                close_lag_1, shortema, longema, macd]\n",
    "\n",
    "    for i in range(5):\n",
    "        # Make prediction for the next day\n",
    "        prediction = model.predict(np.array([features]))[0]\n",
    "        predictions.append(prediction)\n",
    "\n",
    "        # Update features for the next prediction\n",
    "        # Note: This step needs to be customized based on how your features should be updated\n",
    "        features = update_features(features, prediction)\n",
    "\n",
    "    # Display predictions\n",
    "    for i, pred in enumerate(predictions):\n",
    "        st.write(f'Day {i+1} Predicted Close Price: {pred}')\n"
   ]
  }
 ],
 "metadata": {
  "kernelspec": {
   "display_name": "Python 3 (ipykernel)",
   "language": "python",
   "name": "python3"
  },
  "language_info": {
   "codemirror_mode": {
    "name": "ipython",
    "version": 3
   },
   "file_extension": ".py",
   "mimetype": "text/x-python",
   "name": "python",
   "nbconvert_exporter": "python",
   "pygments_lexer": "ipython3",
   "version": "3.9.13"
  }
 },
 "nbformat": 4,
 "nbformat_minor": 5
}
